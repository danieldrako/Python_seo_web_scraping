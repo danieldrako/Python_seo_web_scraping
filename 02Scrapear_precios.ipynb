{
 "cells": [
  {
   "cell_type": "code",
   "execution_count": 1,
   "id": "2d7a2e25",
   "metadata": {},
   "outputs": [
    {
     "name": "stderr",
     "output_type": "stream",
     "text": [
      "C:\\Users\\Daniel Ortiz\\AppData\\Local\\Temp\\ipykernel_9668\\1603758577.py:3: DeprecationWarning: executable_path has been deprecated, please pass in a Service object\n",
      "  driver = webdriver.Chrome('chromedriver.exe')\n"
     ]
    }
   ],
   "source": [
    "from selenium import webdriver\n",
    "url = \"https://www.electrocosto.com/televisores/\"\n",
    "driver = webdriver.Chrome('chromedriver.exe')\n",
    "driver.maximize_window()\n",
    "driver.get(url)"
   ]
  },
  {
   "cell_type": "code",
   "execution_count": 2,
   "id": "c18e1e6e",
   "metadata": {},
   "outputs": [],
   "source": [
    "nombres = driver.find_elements(\"xpath\",'.//div[@class=\"recomender-block-item-title text-center\"]/span')"
   ]
  },
  {
   "cell_type": "code",
   "execution_count": 3,
   "id": "0c79ead2",
   "metadata": {},
   "outputs": [
    {
     "name": "stdout",
     "output_type": "stream",
     "text": [
      "TCL 55P615 Negro - TV 55\" 4K UHD Smart TV\n",
      "NEVIR NVR-7710-32RD2-N Negro - TV 32\" HD Ready\n",
      "NEVIR NVR-8060-434K2S Negro - TV Smart TV UHD 4K\n",
      "LG 55UP78003 - Televisor 55\" UHD 4K SmartTV\n",
      "NEVIR NVR-8060-434K2S-SMA-N - TV + Soporte BFI 6020\n",
      "TCL 43P615 Negro - TV 43\" UHD Smart TV\n",
      "LG 32LQ630B6LA - TV 32\" HD Ready, Smart TV\n",
      "LG 43UP76703 - TV 43\" UHD 4K SmartTV\n",
      "NEVIR NVR-7711-24RD2-N Negro - TV LED 24″ HD Ready\n",
      "SAMSUNG UE43TU7025KXXC - TV 43\" 4K SMART TV\n",
      "Televisor Hisense 65U7QF UHD 4K Smart TV Dolby Atmos 65\"\n",
      "STREAM SYSTEM S40D20 Negro - TV 39.5\" Full HD Smart TV\n",
      "NEVIR NVR-8075-39HD2S-SMA-N Negro - TV 39\" HD Ready Smart TV\n",
      "NEVIR NVR-8075-32RD2S-SMA-N Negro - TV LED 32″HD Ready Smart TV\n",
      "NEVIR NVR-8071-434K2S-SMA-N Negro - TV 43\" Ultra HD 4k Smart TV\n",
      "LG 55NANO756PA - TV 55\" 4K NanoCell SmartTV\n"
     ]
    }
   ],
   "source": [
    "for nombre in nombres:\n",
    "    producto = nombre.text\n",
    "    print(producto)"
   ]
  },
  {
   "cell_type": "code",
   "execution_count": 6,
   "id": "354c1cc7",
   "metadata": {},
   "outputs": [
    {
     "name": "stdout",
     "output_type": "stream",
     "text": [
      "['369', '127', '310', '506', '292', '299', '231', '307', '153', '337', '850', '245', '235', '181', '284', '507']\n",
      "[',99', ',49', ',49', ',49', ',50', ',99', ',60', ',49', ',49', ',50', ',55', ',49', ',99', ',49', ',49', ',99']\n"
     ]
    }
   ],
   "source": [
    "precios = driver.find_elements(\"xpath\",'.//div[@class=\"mini-price\"]/span[1]')\n",
    "decimos = driver.find_elements(\"xpath\",'.//div[@class=\"mini-price\"]/span[2]')\n",
    "valores = []\n",
    "centimos = []\n",
    "for precio in precios:\n",
    "    valor = precio.text\n",
    "    valores.append(valor)\n",
    "for decimo in decimos:\n",
    "    centavo = decimo.text\n",
    "    centimos.append(centavo)\n",
    "\n",
    "print(valores)\n",
    "print(centimos)"
   ]
  },
  {
   "cell_type": "code",
   "execution_count": 18,
   "id": "49e35afd",
   "metadata": {},
   "outputs": [],
   "source": [
    "#unir los dos elementos en uno solo\n",
    "prices= []\n",
    "for i in range(len(valores)):\n",
    "    prices.append(valores[i]+centimos[i])\n"
   ]
  },
  {
   "cell_type": "code",
   "execution_count": 20,
   "id": "2b85f26e",
   "metadata": {},
   "outputs": [],
   "source": [
    "prices = [ x.replace(\",\",\".\") for x in prices]"
   ]
  },
  {
   "cell_type": "code",
   "execution_count": 23,
   "id": "2bd0a359",
   "metadata": {},
   "outputs": [],
   "source": [
    "prices = [float(x) for x in prices]\n"
   ]
  },
  {
   "cell_type": "code",
   "execution_count": null,
   "id": "f326c78a",
   "metadata": {},
   "outputs": [],
   "source": []
  }
 ],
 "metadata": {
  "kernelspec": {
   "display_name": "Python 3 (ipykernel)",
   "language": "python",
   "name": "python3"
  },
  "language_info": {
   "codemirror_mode": {
    "name": "ipython",
    "version": 3
   },
   "file_extension": ".py",
   "mimetype": "text/x-python",
   "name": "python",
   "nbconvert_exporter": "python",
   "pygments_lexer": "ipython3",
   "version": "3.9.13"
  }
 },
 "nbformat": 4,
 "nbformat_minor": 5
}
