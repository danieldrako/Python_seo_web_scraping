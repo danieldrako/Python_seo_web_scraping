{
 "cells": [
  {
   "cell_type": "code",
   "execution_count": 4,
   "id": "f09bc873",
   "metadata": {},
   "outputs": [],
   "source": [
    "from selenium import webdriver"
   ]
  },
  {
   "cell_type": "code",
   "execution_count": 6,
   "id": "7514d151",
   "metadata": {},
   "outputs": [],
   "source": [
    "url = \"https://books.toscrape.com/\""
   ]
  },
  {
   "cell_type": "code",
   "execution_count": 7,
   "id": "353dae73",
   "metadata": {},
   "outputs": [
    {
     "name": "stderr",
     "output_type": "stream",
     "text": [
      "C:\\Users\\Daniel Ortiz\\AppData\\Local\\Temp\\ipykernel_13712\\3200849174.py:1: DeprecationWarning: executable_path has been deprecated, please pass in a Service object\n",
      "  driver = webdriver.Chrome('chromedriver.exe')\n"
     ]
    }
   ],
   "source": [
    "driver = webdriver.Chrome('chromedriver.exe')\n",
    "driver.maximize_window()\n",
    "driver.get(url)"
   ]
  },
  {
   "cell_type": "code",
   "execution_count": null,
   "id": "c5a223d1",
   "metadata": {},
   "outputs": [],
   "source": [
    "articulos = driver.find_elements_byxpath('//*[@id=\"default\"]/div[1]/div/div/div/section/div[2]/ol/li[1]/article/h3/a')\n",
    "articulos = driver.find_elements_byxpath('//*[@id=\"default\"]/div[1]/div/div/div/section/div[2]/ol/li[1]/article/h3/a')"
   ]
  }
 ],
 "metadata": {
  "kernelspec": {
   "display_name": "Python 3 (ipykernel)",
   "language": "python",
   "name": "python3"
  },
  "language_info": {
   "codemirror_mode": {
    "name": "ipython",
    "version": 3
   },
   "file_extension": ".py",
   "mimetype": "text/x-python",
   "name": "python",
   "nbconvert_exporter": "python",
   "pygments_lexer": "ipython3",
   "version": "3.9.13"
  }
 },
 "nbformat": 4,
 "nbformat_minor": 5
}
